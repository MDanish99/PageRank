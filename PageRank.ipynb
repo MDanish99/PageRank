{
 "cells": [
  {
   "cell_type": "code",
   "execution_count": 1,
   "metadata": {},
   "outputs": [],
   "source": [
    "import random\n",
    "import pandas as pd\n",
    "import numpy as np\n",
    "import matplotlib.pyplot as plt\n",
    "import seaborn as sns\n",
    "sns.set_style('darkgrid')"
   ]
  },
  {
   "cell_type": "markdown",
   "metadata": {},
   "source": [
    "## 3.1"
   ]
  },
  {
   "cell_type": "code",
   "execution_count": 2,
   "metadata": {},
   "outputs": [],
   "source": [
    "class Graph:\n",
    "    def __init__(self):\n",
    "        self.nodes={}\n",
    "    \n",
    "    def construct_graph(self):\n",
    "        with open(\"com-dblp.txt\") as file:\n",
    "            df = file.readlines()[4:]\n",
    "        for line in df:\n",
    "            f,t=map(int,(line.split()))\n",
    "            if f not in self.nodes:\n",
    "                self.nodes[f]=[]\n",
    "            if t not in self.nodes:\n",
    "                self.nodes[t]=[]\n",
    "            self.nodes[f].append(t)\n",
    "            self.nodes[t].append(f)\n",
    "    \n",
    "    def random_walk(self, M, alpha = 0.15):\n",
    "        import random\n",
    "        visiting_nodes = [0]*len(self.nodes)\n",
    "        terminating_nodes = [0]*len(self.nodes)\n",
    "        for i in range(M):\n",
    "            node = random.randint(0,len(self.nodes)-1)\n",
    "            visiting_nodes[node]+=1\n",
    "            rand_num = random.random()\n",
    "            while rand_num>alpha:\n",
    "                node = random.choice(self.nodes[node])\n",
    "                visiting_nodes[node]+=1\n",
    "                rand_num = random.random()\n",
    "            terminating_nodes[node]+=1\n",
    "        page_rank = {node:terminating_nodes[node]/M for node in self.nodes}\n",
    "        pi = self.power_iteration(alpha)\n",
    "        diff = sum([abs(pi[node] - page_rank[node]) for node in self.nodes])\n",
    "        return diff\n",
    "        \n",
    "    def power_iteration(self,alpha):\n",
    "        pi_1 = {node:1/len(self.nodes) for node in self.nodes}\n",
    "        pi_2 = {node:0 for node in self.nodes}\n",
    "        abs_diff = max([abs(pi_1[node] - pi_2[node]) for node in self.nodes])\n",
    "        while abs_diff >= 1e-9:\n",
    "            for node,neigh in self.nodes.items():\n",
    "                if len(neigh)>0:\n",
    "                    for neigh_node in neigh:\n",
    "                        pi_2[neigh_node]+=pi_1[node]/len(neigh)\n",
    "            pi_2={node:(1-alpha)*pi_2[node]+alpha/len(self.nodes) for node in self.nodes}\n",
    "            abs_diff=max([abs(pi_1[node]-pi_2[node]) for node in self.nodes])\n",
    "            pi_1=pi_2\n",
    "            pi_2={node:0 for node in self.nodes}\n",
    "        return pi_1"
   ]
  },
  {
   "cell_type": "code",
   "execution_count": 3,
   "metadata": {},
   "outputs": [],
   "source": [
    "graph = Graph()\n",
    "graph.construct_graph()"
   ]
  },
  {
   "cell_type": "code",
   "execution_count": 4,
   "metadata": {},
   "outputs": [
    {
     "name": "stdout",
     "output_type": "stream",
     "text": [
      "For M = 2n, difference = 0.5236544675679615\n",
      "For M = 4n, difference = 0.3696326597377792\n",
      "For M = 6n, difference = 0.30217484725704746\n",
      "For M = 8n, difference = 0.26145508842861953\n",
      "For M = 10n, difference = 0.23372436232096142\n"
     ]
    }
   ],
   "source": [
    "answers = []\n",
    "for i in [2,4,6,8,10]:\n",
    "    temp = graph.random_walk(i*len(graph.nodes))\n",
    "    print('For M = ' + str(i) + 'n, difference = ' + str(temp))\n",
    "    answers.append(temp)"
   ]
  },
  {
   "cell_type": "code",
   "execution_count": 5,
   "metadata": {},
   "outputs": [
    {
     "data": {
      "image/png": "[encoded data removed]",
      "text/plain": [
       "<Figure size 576x576 with 1 Axes>"
      ]
     },
     "metadata": {},
     "output_type": "display_data"
    }
   ],
   "source": [
    "plt.figure(figsize=(8,8));\n",
    "sns.lineplot(x = [2,4,6,8,10], y = answers);"
   ]
  },
  {
   "cell_type": "markdown",
   "metadata": {},
   "source": [
    "## 3.2"
   ]
  },
  {
   "cell_type": "code",
   "execution_count": 6,
   "metadata": {},
   "outputs": [],
   "source": [
    "class Graph:\n",
    "    def __init__(self):\n",
    "        self.nodes={}\n",
    "    \n",
    "    def construct_graph(self):\n",
    "        with open(\"com-dblp.txt\") as file:\n",
    "            df = file.readlines()[4:]\n",
    "        for line in df:\n",
    "            f,t=map(int,(line.split()))\n",
    "            if f not in self.nodes:\n",
    "                self.nodes[f]=[]\n",
    "            if t not in self.nodes:\n",
    "                self.nodes[t]=[]\n",
    "            self.nodes[f].append(t)\n",
    "            self.nodes[t].append(f)\n",
    "    \n",
    "    def random_walk(self, M, alpha = 0.15):\n",
    "        import random\n",
    "        visiting_nodes = [0]*len(self.nodes)\n",
    "        terminating_nodes = [0]*len(self.nodes)\n",
    "        for i in range(M):\n",
    "            node = random.randint(0,len(self.nodes)-1)\n",
    "            visiting_nodes[node]+=1\n",
    "            rand_num = random.random()\n",
    "            while rand_num>alpha:\n",
    "                node = random.choice(self.nodes[node])\n",
    "                visiting_nodes[node]+=1\n",
    "                rand_num = random.random()\n",
    "            terminating_nodes[node]+=1\n",
    "        page_rank = {node:alpha*visiting_nodes[node]/M for node in self.nodes} # pagerank computed based on visitation of each node\n",
    "        pi = self.power_iteration(alpha)\n",
    "        diff = sum([abs(pi[node] - page_rank[node]) for node in self.nodes])\n",
    "        return diff\n",
    "        \n",
    "    def power_iteration(self,alpha):\n",
    "        pi_1 = {node:1/len(self.nodes) for node in self.nodes}\n",
    "        pi_2 = {node:0 for node in self.nodes}\n",
    "        abs_diff = max([abs(pi_1[node] - pi_2[node]) for node in self.nodes])\n",
    "        while abs_diff >= 1e-9:\n",
    "            for node,neigh in self.nodes.items():\n",
    "                if len(neigh)>0:\n",
    "                    for neigh_node in neigh:\n",
    "                        pi_2[neigh_node]+=pi_1[node]/len(neigh)\n",
    "            pi_2={node:(1-alpha)*pi_2[node]+alpha/len(self.nodes) for node in self.nodes}\n",
    "            abs_diff=max([abs(pi_1[node]-pi_2[node]) for node in self.nodes])\n",
    "            pi_1=pi_2\n",
    "            pi_2={node:0 for node in self.nodes}\n",
    "        return pi_1"
   ]
  },
  {
   "cell_type": "code",
   "execution_count": 7,
   "metadata": {},
   "outputs": [],
   "source": [
    "graph = Graph()\n",
    "graph.construct_graph()"
   ]
  },
  {
   "cell_type": "code",
   "execution_count": 8,
   "metadata": {},
   "outputs": [
    {
     "name": "stdout",
     "output_type": "stream",
     "text": [
      "For M = 2n, difference = 0.24879891206906074\n",
      "For M = 4n, difference = 0.17649052606695081\n",
      "For M = 6n, difference = 0.14351006578147946\n",
      "For M = 8n, difference = 0.12474383551489271\n",
      "For M = 10n, difference = 0.11117781590692849\n"
     ]
    }
   ],
   "source": [
    "answers = []\n",
    "for i in [2,4,6,8,10]:\n",
    "    temp = graph.random_walk(i*len(graph.nodes))\n",
    "    print('For M = ' + str(i) + 'n, difference = ' + str(temp))\n",
    "    answers.append(temp)"
   ]
  },
  {
   "cell_type": "code",
   "execution_count": 9,
   "metadata": {},
   "outputs": [
    {
     "data": {
      "image/png": "[encoded data removed]",
      "text/plain": [
       "<Figure size 576x576 with 1 Axes>"
      ]
     },
     "metadata": {},
     "output_type": "display_data"
    }
   ],
   "source": [
    "plt.figure(figsize=(8,8));\n",
    "sns.lineplot(x = [2,4,6,8,10], y = answers);"
   ]
  },
  {
   "cell_type": "markdown",
   "metadata": {},
   "source": [
    "## 3.3"
   ]
  },
  {
   "cell_type": "markdown",
   "metadata": {},
   "source": [
    "We can approach this question in this way:\n",
    "\n",
    "For each step in Random Walk, we stop at the current node with probability $ \\alpha $ or we jump to a neighbour of the curent node with probability $ (1-\\alpha) $.\n",
    "\n",
    "Let's consider the probability of $k-th$ jumping. Initially probability is $ \\pi(0) = 1/n$ for all nodes. After each jump, we update the distribution $ \\pi_{t+1} = P\\pi_{t} $. Hence, $ \\pi_{k} = P^k(1/n) $ and the probability of $k-th$ step is $(1-\\alpha)^k$. Therefore,\n",
    "\n",
    "$ \\begin{equation}\n",
    "E(s_{v}/M) = \\sum_{k}^\\infty (1-\\alpha)^k P^k (1/n)\n",
    "\\end{equation}$\n"
   ]
  },
  {
   "cell_type": "code",
   "execution_count": null,
   "metadata": {},
   "outputs": [],
   "source": []
  }
 ],
 "metadata": {
  "kernelspec": {
   "display_name": "Python 3",
   "language": "python",
   "name": "python3"
  },
  "language_info": {
   "codemirror_mode": {
    "name": "ipython",
    "version": 3
   },
   "file_extension": ".py",
   "mimetype": "text/x-python",
   "name": "python",
   "nbconvert_exporter": "python",
   "pygments_lexer": "ipython3",
   "version": "3.8.5"
  }
 },
 "nbformat": 4,
 "nbformat_minor": 4
}
